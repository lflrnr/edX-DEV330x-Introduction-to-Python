{
 "cells": [
  {
   "cell_type": "markdown",
   "metadata": {},
   "source": [
    "# Module 1 Practice\n",
    "\n",
    "### Students will be able to:\n",
    "\n",
    "## 3-1.1 Using Python Modules\n",
    "* Import different Python modules\n",
    "* Compute mathematical expressions using functions from the math module\n",
    "* Recognize the effect of operator precedence\n",
    "* Round real numbers into the nearest integer\n",
    "* Generate (pseudo-)random integers\n",
    "* Select a random element from a list\n",
    "* Shuffle the elements of a list\n",
    "\n",
    "##  3-1.2 Working with Date and Time\n",
    "* Assign and modify a time object (variable)\n",
    "* Assign and modify a date object (variable)\n",
    "* Get the current local date\n",
    "* Assign and modify a datetime object (variable)\n",
    "* Split a datetime object into separate time and date objects\n",
    "* Combine time and date objects into datetime objects\n",
    "* Display a datetime object as a formatted string\n",
    "\n",
    "## 3-1.3 Date and Time Arithmetic\n",
    "\n",
    "* Create timedelta objects\n",
    "* Use timedelta objects to perform date arithmetic\n",
    "* Compare two datetime objects\n",
    "* Build a useful application using timedelta arithmetic\n",
    "\n",
    "## 3-1.4 File System\n",
    "\n",
    "* Identify the platform running a Python script ('Linux', 'win32', 'Darwin')\n",
    "* Get the current working directory\n",
    "* Change the current working directory\n",
    "* List the content of the current working directory\n",
    "* Create a new directory\n",
    "* Remove a directory\n",
    "* Rename files and/or directories\n",
    "* Recognize the difference between a relative path and an absolute path\n",
    "* Test if a path exists\n",
    "* Test if a specific file or directory exists"
   ]
  },
  {
   "cell_type": "markdown",
   "metadata": {},
   "source": [
    "---\n",
    "<font size=\"6\" color=\"#B24C00\"  face=\"verdana\"> <B>Task 1</B></font>\n",
    "\n",
    "## `math` module\n"
   ]
  },
  {
   "cell_type": "code",
   "execution_count": 2,
   "metadata": {},
   "outputs": [
    {
     "name": "stdout",
     "output_type": "stream",
     "text": [
      "3.141592653589793\n"
     ]
    }
   ],
   "source": [
    "# [ ] Use the math module to display an accurate value for pi\n",
    "import math\n",
    "print(math.pi)"
   ]
  },
  {
   "cell_type": "code",
   "execution_count": 6,
   "metadata": {},
   "outputs": [
    {
     "name": "stdout",
     "output_type": "stream",
     "text": [
      "Square root of 45 is: 7\n",
      "Square root of 42 is: 6\n",
      "Square root of 87 is: 9\n",
      "Square root of 39 is: 6\n",
      "Square root of 18 is: 4\n"
     ]
    }
   ],
   "source": [
    "# [ ] Write a program to:\n",
    "# 1) find all the numbers in a list that are divisible by 3\n",
    "# 2) display the square root of these numbers\n",
    "# 3) use a rounding function to display the square roots while ignoring the decimal fraction\n",
    "\n",
    "import math\n",
    "from math import sqrt\n",
    "\n",
    "lst = [23, 45, 65, 2345, 42, 76, 37, 87, 647, 35, 37 ,39, 898, 92, 18]\n",
    "\n",
    "for x in lst:\n",
    "    if x % 3 == 0:\n",
    "        y = sqrt(x)\n",
    "        if (math.ceil(y) - y) <= (y - math.floor(y)):\n",
    "            print(\"Square root of\", x, \"is:\", math.ceil(y))\n",
    "        else:\n",
    "            print(\"Square root of\", x, \"is:\", math.floor(y))\n",
    "    else:\n",
    "        pass"
   ]
  },
  {
   "cell_type": "markdown",
   "metadata": {},
   "source": [
    "---\n",
    "<font size=\"6\" color=\"#B24C00\"  face=\"verdana\"> <B>Task 2</B></font>\n",
    "\n",
    "## Mathematical operators\n"
   ]
  },
  {
   "cell_type": "markdown",
   "metadata": {},
   "source": [
    "### Coin calculators\n",
    "\n",
    "In the following exercises, you will develop functions to count the number of coins in a certain dollar amount. You will then use these functions to write a program that can calculate the change due to a customer in coins."
   ]
  },
  {
   "cell_type": "markdown",
   "metadata": {},
   "source": [
    "#### Quarters"
   ]
  },
  {
   "cell_type": "code",
   "execution_count": 7,
   "metadata": {},
   "outputs": [
    {
     "name": "stdout",
     "output_type": "stream",
     "text": [
      "The number of quarters: 8\n",
      "The number of remaining cents: 0\n",
      "The number of quarters: 21.0\n",
      "The number of remaining cents: 5.0\n",
      "The number of quarters: 37.0\n",
      "The number of remaining cents: 24.0\n"
     ]
    }
   ],
   "source": [
    "# [ ] Complete the function `quarters_count` so it calculates and prints the number of quarters in `input_cents`\n",
    "# The function input `input_cents` should be in cents \n",
    "# The function should print the number of calculated quarters in `input_cents`\n",
    "# The function should return the number of remaining cents `remaining_cents` (which is less than 25, why?)\n",
    "# HINT: You might want to use % and // operators\n",
    "\n",
    "def quarters_count(input_cents):\n",
    "    #TODO\n",
    "    print(\"The number of quarters:\", input_cents // 25)\n",
    "    print(\"The number of remaining cents:\", input_cents % 25)\n",
    "    \n",
    "# test with $2\n",
    "# Output should be: 8 quarter\\s\n",
    "dollars = 2\n",
    "total_cents = dollars * 100\n",
    "remaining_cents = quarters_count(total_cents)\n",
    "\n",
    "# test with $5.30\n",
    "# Output should be: 21.0 quarter\\s\n",
    "dollars = 5.30\n",
    "total_cents = dollars * 100\n",
    "remaining_cents = quarters_count(total_cents)\n",
    "\n",
    "# test with $9.49\n",
    "# Output should be: 37.0 quarter\\s\n",
    "dollars = 9.49\n",
    "total_cents = dollars * 100\n",
    "remaining_cents = quarters_count(total_cents)\n",
    "\n"
   ]
  },
  {
   "cell_type": "markdown",
   "metadata": {},
   "source": [
    "#### Dimes"
   ]
  },
  {
   "cell_type": "code",
   "execution_count": 8,
   "metadata": {},
   "outputs": [
    {
     "name": "stdout",
     "output_type": "stream",
     "text": [
      "The number of dimes: 20\n",
      "The number of remaining cents: 0\n",
      "The number of dimes: 53.0\n",
      "The number of remaining cents: 0.0\n",
      "The number of dimes: 94.0\n",
      "The number of remaining cents: 9.0\n"
     ]
    }
   ],
   "source": [
    "# [ ] Complete the function `dimes_count` so it calculates and prints the number of dimes in `input_cents`\n",
    "# The function input `input_cents` should be in cents \n",
    "# The function should print the number of calculated dimes in `input_cents`\n",
    "# The function should return the number of remaining cents `remaining_cents` (which is less than 10, why?)\n",
    "# HINT: You might want to use % and // operators\n",
    "\n",
    "def dimes_count(input_cents):\n",
    "    #TODO\n",
    "    print(\"The number of dimes:\", input_cents // 10)\n",
    "    print(\"The number of remaining cents:\", input_cents % 10)\n",
    "    \n",
    "# test with $2\n",
    "# Output should be: 20 dime\\s\n",
    "dollars = 2\n",
    "total_cents = dollars * 100\n",
    "remaining_cents = dimes_count(total_cents)\n",
    "\n",
    "# test with $5.30\n",
    "# Output should be: 53.0 dime\\s\n",
    "dollars = 5.30\n",
    "total_cents = dollars * 100\n",
    "remaining_cents = dimes_count(total_cents)\n",
    "\n",
    "# test with $9.49\n",
    "# Output should be: 94.0 dime\\s\n",
    "dollars = 9.49\n",
    "total_cents = dollars * 100\n",
    "remaining_cents = dimes_count(total_cents)\n",
    "\n"
   ]
  },
  {
   "cell_type": "markdown",
   "metadata": {},
   "source": [
    "#### Nickels"
   ]
  },
  {
   "cell_type": "code",
   "execution_count": 9,
   "metadata": {},
   "outputs": [
    {
     "name": "stdout",
     "output_type": "stream",
     "text": [
      "The number of nickels: 40\n",
      "The number of remaining cents: 0\n",
      "The number of nickels: 106.0\n",
      "The number of remaining cents: 0.0\n",
      "The number of nickels: 189.0\n",
      "The number of remaining cents: 4.0\n"
     ]
    }
   ],
   "source": [
    "# [ ] Complete the function `nickels_count` so it calculates and prints the number of nickels in `input_cents`\n",
    "# The function input `input_cents` should be in cents \n",
    "# The function should print the number of calculated nickels in `input_cents`\n",
    "# The function should return the number of remaining cents `remaining_cents` (which is less than 5, why?)\n",
    "# HINT: You might want to use % and // operators\n",
    "\n",
    "def nickels_count(input_cents):\n",
    "    #TODO\n",
    "    print(\"The number of nickels:\", input_cents // 5)\n",
    "    print(\"The number of remaining cents:\", input_cents % 5)\n",
    "    \n",
    "# test with $2\n",
    "# Output should be: 40 nickel\\s\n",
    "dollars = 2\n",
    "total_cents = dollars * 100\n",
    "remaining_cents = nickels_count(total_cents)\n",
    "\n",
    "# test with $5.30\n",
    "# Output should be: 106.0 nickel\\s\n",
    "dollars = 5.30\n",
    "total_cents = dollars * 100\n",
    "remaining_cents = nickels_count(total_cents)\n",
    "\n",
    "# test with $9.49\n",
    "# Output should be: 189.0 nickel\\s\n",
    "dollars = 9.49\n",
    "total_cents = dollars * 100\n",
    "remaining_cents = nickels_count(total_cents)\n",
    "\n"
   ]
  },
  {
   "cell_type": "markdown",
   "metadata": {},
   "source": [
    "#### Change calculator"
   ]
  },
  {
   "cell_type": "code",
   "execution_count": 33,
   "metadata": {},
   "outputs": [
    {
     "name": "stdout",
     "output_type": "stream",
     "text": [
      "Change due:\n",
      "18.0 quarter\\s\n",
      "1.0 dime\\s\n",
      "0.0 nickel\\s\n",
      "3.0 cent\\s\n"
     ]
    }
   ],
   "source": [
    "# [ ] Complete the function `coins_due` to calculate and print the change due to a customer in coins\n",
    "#\n",
    "# The function `coins_due` has 2 inputs:\n",
    "#      - `amount_paid`: Amount paid by a customer (in cents)\n",
    "#      - `item_price`: Purchase price of an item\n",
    "#\n",
    "# The function should print:\n",
    "#      - The number of quarters due\n",
    "#      - The number of dimes due\n",
    "#      - The number of nickels due\n",
    "#      - The number of cents due\n",
    "#      \n",
    "# The function does not need to return anything\n",
    "#\n",
    "# HINT: Use the functions you developed before `quarters_count`, `dimes_count`, `nickels_count`\n",
    "\n",
    "\n",
    "def quarters_count(input_cents):\n",
    "    #TODO\n",
    "    print(input_cents // 25, \"quarter\\s\")\n",
    "def dimes_count(input_cents):\n",
    "    #TODO\n",
    "    print(input_cents // 25 // 10, \"dime\\s\")\n",
    "def nickels_count(input_cents):\n",
    "    #TODO\n",
    "    print(input_cents // 25 // 20 // 5, \"nickel\\s\")\n",
    "def coins_due(amount_paid, item_price):\n",
    "    print(\"Change due:\")\n",
    "    #TODO\n",
    "    x = amount_paid - item_price\n",
    "    quarters_count(x)\n",
    "    dimes_count(x)\n",
    "    nickels_count(x)\n",
    "    print(x % 5, \"cent\\s\")\n",
    "# Test case:\n",
    "# amount paid = $10, item price = $5.37\n",
    "# Output should be: \n",
    "#    Change due:\n",
    "#    18.0 quarter\\s\n",
    "#    1.0 dime\\s\n",
    "#    0.0 nickel\\s\n",
    "#    3.0 cent\\s\n",
    "\n",
    "amount_paid = 10 * 100 # in cents\n",
    "item_price = 5.37 * 100 # in cents\n",
    "coins_due(amount_paid, item_price)\n"
   ]
  },
  {
   "cell_type": "markdown",
   "metadata": {},
   "source": [
    "---\n",
    "<font size=\"6\" color=\"#B24C00\"  face=\"verdana\"> <B>Task 3</B></font>\n",
    "\n",
    "## Random numbers\n"
   ]
  },
  {
   "cell_type": "markdown",
   "metadata": {},
   "source": [
    "### Probability of a die roll\n",
    "\n",
    "It is possible to mathematically predict the probability (or chance) of getting a certain die roll; however, in this exercise you will use Python to do it without math. The trick is to roll a die a large number of times and count how many times we get a certain roll. You can, then, divide the count by the large number to get the probability. For a fair 6-sided die, the chance of getting any of its faces is about 16.6%"
   ]
  },
  {
   "cell_type": "code",
   "execution_count": 96,
   "metadata": {},
   "outputs": [
    {
     "name": "stdout",
     "output_type": "stream",
     "text": [
      "The number of 6s are: 0.16618338166183383 %\n"
     ]
    }
   ],
   "source": [
    "# [ ] Complete the following program to display the probability of a certain die roll\n",
    "\n",
    "from random import randint\n",
    "\n",
    "def die_roller():\n",
    "    return(randint(1, 6))\n",
    "\n",
    "#TODO\n",
    "count = 0\n",
    "sixes = 0\n",
    "while count < 10001:\n",
    "    x = die_roller()\n",
    "    if x == 6:\n",
    "        sixes += 1\n",
    "    else:\n",
    "        pass\n",
    "    count += 1\n",
    "\n",
    "print(\"The number of 6s are:\", sixes / count, \"%\")\n",
    "    "
   ]
  },
  {
   "cell_type": "markdown",
   "metadata": {},
   "source": [
    "### Roll till you get 11\n",
    "\n",
    "In this exercise, you will count the number of times you need to roll a set of 2 dice till you get a roll sum of 11."
   ]
  },
  {
   "cell_type": "code",
   "execution_count": 20,
   "metadata": {},
   "outputs": [
    {
     "name": "stdout",
     "output_type": "stream",
     "text": [
      "Number of times 2 dice are rolled to get a sum of 11: 16\n"
     ]
    }
   ],
   "source": [
    "# [ ] Complete the following program so you can count the number of times needed to get a roll sum of 11\n",
    "\n",
    "from random import randint\n",
    "\n",
    "def die_roller():\n",
    "    return(randint(1, 6))\n",
    "\n",
    "def roll_sum():\n",
    "    return die_roller() + die_roller()\n",
    "\n",
    "#TODO\n",
    "count = 0\n",
    "eleven = 0\n",
    "while eleven != 1:\n",
    "    if roll_sum() == 11:\n",
    "        eleven = 1\n",
    "    else:\n",
    "        count += 1\n",
    "print(\"Number of times 2 dice are rolled to get a sum of 11:\", count)\n"
   ]
  },
  {
   "cell_type": "markdown",
   "metadata": {},
   "source": [
    "### Pick a candy\n",
    "\n",
    "In this exercise, you will write a program to randomly select a candy from a box."
   ]
  },
  {
   "cell_type": "code",
   "execution_count": 25,
   "metadata": {},
   "outputs": [
    {
     "name": "stdout",
     "output_type": "stream",
     "text": [
      "Candy bar\n"
     ]
    }
   ],
   "source": [
    "# [ ] Complete the function `pick_candy` so it returns a candy from box at random\n",
    "\n",
    "from random import choice\n",
    "\n",
    "def pick_candy():\n",
    "    box = [\"Taffy\", \"Brownie\", \"Cookie\", \"Candy bar\", \"Chocolate\", \"Lollipop\", \"Gingerbread\", \"Marshmallow\"]\n",
    "    #TODO\n",
    "    return choice(box)\n",
    "print(pick_candy())\n",
    "\n"
   ]
  },
  {
   "cell_type": "markdown",
   "metadata": {},
   "source": [
    "### Shuffle a sorted list"
   ]
  },
  {
   "cell_type": "code",
   "execution_count": 26,
   "metadata": {},
   "outputs": [
    {
     "name": "stdout",
     "output_type": "stream",
     "text": [
      "[62, 69, 5, 35, 394, 3, 594, 59, 1993, 102, 9, 29]\n"
     ]
    }
   ],
   "source": [
    "# [ ] Write a program to shuffle the following sorted list\n",
    "\n",
    "lst = [3, 5, 9, 29, 35, 59, 62, 69, 102, 394, 594, 1993]\n",
    "\n",
    "#TODO\n",
    "from random import shuffle\n",
    "\n",
    "shuffle(lst)\n",
    "print(lst)\n"
   ]
  },
  {
   "cell_type": "markdown",
   "metadata": {},
   "source": [
    "---\n",
    "<font size=\"6\" color=\"#B24C00\"  face=\"verdana\"> <B>Task 4</B></font>\n",
    "\n",
    "## Working with date and time\n"
   ]
  },
  {
   "cell_type": "markdown",
   "metadata": {},
   "source": [
    "### Current date and time"
   ]
  },
  {
   "cell_type": "code",
   "execution_count": 27,
   "metadata": {},
   "outputs": [
    {
     "name": "stdout",
     "output_type": "stream",
     "text": [
      "11:42 AM\n"
     ]
    }
   ],
   "source": [
    "# [ ] Write a program that displays the current time as (HH:MM AM/PM) (example 02:28 PM)\n",
    "from datetime import datetime\n",
    "\n",
    "dt = datetime.today()\n",
    "print(dt.strftime(\"%I:%M %p\"))"
   ]
  },
  {
   "cell_type": "code",
   "execution_count": 28,
   "metadata": {},
   "outputs": [
    {
     "name": "stdout",
     "output_type": "stream",
     "text": [
      "11:42:46\n"
     ]
    }
   ],
   "source": [
    "# [ ] Write a program that displays the current time as (HH:MM:SS) (example 14:28:10)\n",
    "\n",
    "from datetime import datetime\n",
    "\n",
    "dt = datetime.today()\n",
    "print(dt.strftime(\"%H:%M:%S\"))"
   ]
  },
  {
   "cell_type": "code",
   "execution_count": 29,
   "metadata": {},
   "outputs": [
    {
     "name": "stdout",
     "output_type": "stream",
     "text": [
      "Saturday, April 04, 2020\n"
     ]
    }
   ],
   "source": [
    "# [ ] Write a program that displays the current date as (Friday, December 15, 2017)\n",
    "\n",
    "from datetime import datetime\n",
    "\n",
    "dt = datetime.today()\n",
    "print(dt.strftime(\"%A, %B %d, %Y\"))"
   ]
  },
  {
   "cell_type": "markdown",
   "metadata": {},
   "source": [
    "### American VS European date format\n",
    "\n",
    "In the United States, the date is formatted as Month/Day/Year; whereas, in Europe the date is formatted as Day/Month/Year. In this exercise, you will write two functions that will display a `datetime` object in the American or European format."
   ]
  },
  {
   "cell_type": "code",
   "execution_count": 30,
   "metadata": {},
   "outputs": [
    {
     "name": "stdout",
     "output_type": "stream",
     "text": [
      "American format: February/13/2012\n",
      "European format: 13/February/2012\n"
     ]
    }
   ],
   "source": [
    "# [ ] Complete the functions `american_format(d)` and `european_format(d)` to display the datetime object d in the proper format\n",
    "\n",
    "from datetime import datetime\n",
    "\n",
    "def american_format(d):\n",
    "    #TODO\n",
    "    return d.strftime(\"%B/%d/%Y\")\n",
    "def european_format(d):\n",
    "    #TODO\n",
    "    return d.strftime(\"%d/%B/%Y\")\n",
    "# test\n",
    "d = datetime(month = 2, year = 2012, day = 13)\n",
    "\n",
    "print(\"American format:\", american_format(d))\n",
    "print(\"European format:\", european_format(d))\n",
    "\n",
    "\n"
   ]
  },
  {
   "cell_type": "markdown",
   "metadata": {},
   "source": [
    "### Birthday days"
   ]
  },
  {
   "cell_type": "code",
   "execution_count": 33,
   "metadata": {},
   "outputs": [
    {
     "name": "stdout",
     "output_type": "stream",
     "text": [
      "Saturday, January 01, 2000\n",
      "Monday, January 01, 2001\n",
      "Tuesday, January 01, 2002\n",
      "Wednesday, January 01, 2003\n",
      "Thursday, January 01, 2004\n",
      "Saturday, January 01, 2005\n",
      "Sunday, January 01, 2006\n",
      "Monday, January 01, 2007\n",
      "Tuesday, January 01, 2008\n",
      "Thursday, January 01, 2009\n",
      "Friday, January 01, 2010\n",
      "Saturday, January 01, 2011\n",
      "Sunday, January 01, 2012\n",
      "Tuesday, January 01, 2013\n",
      "Wednesday, January 01, 2014\n",
      "Thursday, January 01, 2015\n",
      "Friday, January 01, 2016\n",
      "Sunday, January 01, 2017\n",
      "Monday, January 01, 2018\n",
      "Tuesday, January 01, 2019\n",
      "Wednesday, January 01, 2020\n",
      "Friday, January 01, 2021\n",
      "Saturday, January 01, 2022\n",
      "Sunday, January 01, 2023\n",
      "Monday, January 01, 2024\n",
      "Wednesday, January 01, 2025\n"
     ]
    }
   ],
   "source": [
    "# [ ] Write a program to display a list of all your birthdays from the day you were born till 2025.\n",
    "# You should also show the weekdays so you can see which of them was (or will be) on a weekend\n",
    "\n",
    "from datetime import date\n",
    "for x in range(2000, 2026):\n",
    "    d = date(year = x, month = 1, day = 1)\n",
    "    print(d.strftime(\"%A, %B %d, %Y\"))"
   ]
  },
  {
   "cell_type": "markdown",
   "metadata": {},
   "source": [
    "---\n",
    "<font size=\"6\" color=\"#B24C00\"  face=\"verdana\"> <B>Task 5</B></font>\n",
    "\n",
    "## Date and Time Arithmetic\n"
   ]
  },
  {
   "cell_type": "markdown",
   "metadata": {},
   "source": [
    "### `timedelta`"
   ]
  },
  {
   "cell_type": "code",
   "execution_count": 36,
   "metadata": {},
   "outputs": [
    {
     "name": "stdout",
     "output_type": "stream",
     "text": [
      "There are 40320 minutes in a 4 week period.\n"
     ]
    }
   ],
   "source": [
    "# Write a program to find out how many minutes are in a 4-week period\n",
    "# Hint: Use a timedelta object and the total_seconds() method\n",
    "\n",
    "from datetime import timedelta\n",
    "\n",
    "t = timedelta(weeks = 4)\n",
    "s = t.total_seconds()\n",
    "print(\"There are\", int(s/60), \"minutes in a 4 week period.\")"
   ]
  },
  {
   "cell_type": "markdown",
   "metadata": {},
   "source": [
    "### Date arithmetic"
   ]
  },
  {
   "cell_type": "code",
   "execution_count": 43,
   "metadata": {},
   "outputs": [
    {
     "name": "stdout",
     "output_type": "stream",
     "text": [
      "There are 271 days, 0:00:00 days remaining in the year.\n"
     ]
    }
   ],
   "source": [
    "# [ ] Write a program to compute the number of days remaining in the current year\n",
    "\n",
    "from datetime import date, timedelta\n",
    "\n",
    "d_start = date(year = 2020, month = 1, day = 1)\n",
    "d_now = date.today()\n",
    "delta1 = d_now - d_start\n",
    "delta2 = timedelta(days = 365)\n",
    "\n",
    "remaining = delta2 - delta1\n",
    "print(\"There are\", remaining, \"days remaining in the year.\")"
   ]
  },
  {
   "cell_type": "markdown",
   "metadata": {},
   "source": [
    "### Comparing `datetime` objects"
   ]
  },
  {
   "cell_type": "code",
   "execution_count": 50,
   "metadata": {},
   "outputs": [
    {
     "name": "stdout",
     "output_type": "stream",
     "text": [
      "More than 10 days before July 4th.\n"
     ]
    }
   ],
   "source": [
    "# [ ] Complete the program below to find out if July 4th is within 10 days of today's date,\n",
    "# if it is, find out if has passed or not\n",
    "\n",
    "from datetime import datetime\n",
    "\n",
    "# get today's date\n",
    "todays_date = datetime.today()\n",
    "\n",
    "# 4th of July of current year\n",
    "july_4th = datetime(month = 7, day = 4, year = todays_date.year)\n",
    "\n",
    "days_difference = todays_date - july_4th\n",
    "\n",
    "#TODO\n",
    "import math\n",
    "if math.fabs(days_difference.days) <= 10:\n",
    "    if todays_date < july_4th:\n",
    "        print(\"July 4th has not passed.\")\n",
    "    else:\n",
    "        print(\"July 4th has passed\")\n",
    "else:\n",
    "    print(\"More than 10 days before July 4th.\")\n"
   ]
  },
  {
   "cell_type": "markdown",
   "metadata": {},
   "source": [
    "---\n",
    "<font size=\"6\" color=\"#B24C00\"  face=\"verdana\"> <B>Task 6</B></font>\n",
    "\n",
    "## File System\n"
   ]
  },
  {
   "cell_type": "markdown",
   "metadata": {},
   "source": [
    "### Directory operations"
   ]
  },
  {
   "cell_type": "code",
   "execution_count": null,
   "metadata": {},
   "outputs": [],
   "source": [
    "# [ ] Complete the following program to:\n",
    "# 1) navigate to `parent_dir` directory (if not already in it)\n",
    "# 2) create a new directory called `practice_1`\n",
    "# 3) change the working directory to `practice_1`\n",
    "# 4) display the current working directory to verify you are in the correct location\n",
    "# 5) create a new directory called `practice_2`\n",
    "# 6) verify that `practice_2` was created by listing the content of the current directory\n",
    "# 7) rename `practice_2` as `sub_practice_2`\n",
    "# 8) verify the name was successful changed by listing the content of the current directory\n",
    "# 9) remove `sub_practice_2`\n",
    "# 10) change working directory to the parent directory using `..`\n",
    "# 11) remove `practice_1`\n",
    "# 12) verify your current working directory and display its content\n",
    "\n",
    "import os, os.path\n",
    "\n",
    "# 1) navigate to `parent_dir` directory (if not already in it)\n",
    "if('parent_dir' not in os.getcwd()):\n",
    "    # Changing the current working directory to parent dir\n",
    "    print(\"Changing working dir to parent_dir\")\n",
    "    os.chdir('parent_dir')\n",
    "    print(\"Current working directory:\", os.getcwd())\n",
    "\n",
    "# 2) create a new directory called `practice_1`\n",
    "#TODO\n",
    "os.mkdir('practice_1')\n",
    "\n",
    "# 3) change the working directory to `practice_1`\n",
    "#TODO\n",
    "os.chdir('practice_1')\n",
    "\n",
    "# 4) display the current working directory to verify you are in the correct location\n",
    "#TODO\n",
    "print(\"Current working directory:\", os.getcwd())\n",
    "\n",
    "# 5) create a new directory called `practice_2`\n",
    "#TODO\n",
    "os.mkdir('practice_2')\n",
    "\n",
    "# 6) verify that `practice_2` was created by listing the content of the current directory\n",
    "#TODO\n",
    "print('Current directory content: ', os.listdir())\n",
    "\n",
    "# 7) rename `practice_2` as `sub_practice_2`\n",
    "#TODO\n",
    "os.rename('practice_2', 'sub_practice_2')\n",
    "\n",
    "# 8) verify the name was successful changed by listing the content of the current directory\n",
    "#TODO\n",
    "print('Current directory content: ', os.listdir())\n",
    "\n",
    "# 9) remove `sub_practice_2`\n",
    "#TODO\n",
    "os.rmdir('sub_practice_2')\n",
    "\n",
    "# 10) change working directory to the parent directory using `..`\n",
    "#TODO\n",
    "os.chdir('..')\n",
    "\n",
    "# 11) remove `practice_1`\n",
    "#TODO\n",
    "os.rmdir('practice_1')\n",
    "\n",
    "# 12) verify your current working directory and display its content\n",
    "#TODO\n",
    "print(\"Current working directory:\", os.getcwd())\n",
    "print('Current directory content: ', os.listdir())\n",
    "\n"
   ]
  },
  {
   "cell_type": "markdown",
   "metadata": {},
   "source": [
    "### Path operations"
   ]
  },
  {
   "cell_type": "code",
   "execution_count": null,
   "metadata": {},
   "outputs": [],
   "source": [
    "# [ ] Write a program that prompts the user for a file or directory name\n",
    "# if it exists in the current working directory, it prints whether it is a file or directory\n",
    "\n",
    "import os, os.path\n",
    "\n",
    "print('The current working directory is:', os.getcwd())\n",
    "check = input(\"Enter the name of a file or directory: \")\n",
    "if(os.path.exists(check)):\n",
    "    if os.path.isfile(check):\n",
    "        print(check, \"is a file.\")\n",
    "    else:\n",
    "        print(check, \"is a directory.\")\n",
    "else:\n",
    "    print(\"File or directory does not exist.\")"
   ]
  },
  {
   "cell_type": "markdown",
   "metadata": {},
   "source": [
    "---\n",
    "<font size=\"6\" color=\"#B24C00\"  face=\"verdana\"> <B>Module 1 Project</B></font>\n",
    "\n",
    "## Directory creator\n",
    "\n"
   ]
  },
  {
   "cell_type": "code",
   "execution_count": null,
   "metadata": {},
   "outputs": [],
   "source": [
    "# [ ] The following program is designed to generate a number of directories.\n",
    "# The directory names follow the pattern (MM_DD_YY_randnum), where:\n",
    "#     - MM_DD_YY: is today's date as month/day/year\n",
    "#     - randnum: is a random integer between 10000 and 50000\n",
    "# For example, if today is May 12th, 2016, then the following would be valid names: 05_12_16_11050 or 05_12_16_15001\n",
    "#\n",
    "# For this task, you should complete the functions:\n",
    "# 1) `directory_count()`\n",
    "# 2) `name_generator()`\n",
    "# 3) `directory_creator(name)`\n",
    "# 4) `create()`\n",
    "#\n",
    "# HINT: You should import all necessary modules\n",
    "\n",
    "import os\n",
    "from datetime import datetime\n",
    "import math\n",
    "from random import randint\n",
    "\n",
    "def directory_count():\n",
    "    \"\"\"\n",
    "    Calculate the number of directories to be generated.\n",
    "    \n",
    "    I) Get the current minute using appropriate functionality from `datetime`\n",
    "    II) Take the square root of ..the current minute + 15\n",
    "    III) Round the square root to an integer\n",
    "    VI) return the rounded number as the number of directories to be created\n",
    "    \n",
    "    args: \n",
    "          NONE\n",
    "    \n",
    "    returns: \n",
    "         `dir_count`: number of directories to be created \n",
    "    \"\"\"\n",
    "    #TODO\n",
    "    d = datetime.today()\n",
    "    m = d.minute\n",
    "    s = math.sqrt(m + 15)\n",
    "    num = math.ceil(s)\n",
    "    return num\n",
    "\n",
    "def name_generator():\n",
    "    \"\"\"\n",
    "    Generate a single directory name using the pattern (MM_DD_YY_randnum).\n",
    "    \n",
    "    args:\n",
    "         NONE\n",
    "    \n",
    "    returns:\n",
    "         `dir_name`: string containing a valid directory name\n",
    "    \"\"\"\n",
    "    #TODO\n",
    "    randnum = str(randint(10000, 50000))\n",
    "    d = datetime.today()\n",
    "    date = d.strftime(\"%m_%d_%y_\")\n",
    "    name = date+randnum\n",
    "    return name\n",
    "    \n",
    "def directory_creator(name):\n",
    "    \"\"\"\n",
    "    Create a single directory called `name` in the current working directory.\n",
    "    \n",
    "    args:\n",
    "         name: directory to be created\n",
    "    \n",
    "    returns:\n",
    "         NONE\n",
    "    \"\"\"\n",
    "    #TODO\n",
    "    os.mkdir(name)\n",
    "    \n",
    "def create():\n",
    "    \"\"\"\n",
    "    Generate the necessary directories.\n",
    "    \n",
    "    Use `directory_count` to calculate the number of directories, then use `directory_creator` and `name_generator`.\n",
    "\n",
    "    args:\n",
    "         NONE\n",
    "    \n",
    "    returns:\n",
    "         NONE\n",
    "    \"\"\"\n",
    "    #TODO\n",
    "    dir_count = directory_count()\n",
    "    for x in range(dir_count):\n",
    "        dir_name = name_generator()\n",
    "        directory_creator(dir_name)\n",
    "    \n",
    "# Change working directory to `parent_dir` or `create`\n",
    "if(\"parent_dir\" not in os.getcwd()):\n",
    "    if os.path.exists(\"./parent_dir\"):\n",
    "        print(\"Changing working dir to parent_dir\")\n",
    "        os.chdir(\"parent_dir\")\n",
    "    else:\n",
    "        os.mkdir(os.getcwd() + \"./parent_dir\")\n",
    "        print(\"Changing working dir to parent_dir\")\n",
    "        os.chdir(\"parent_dir\")\n",
    "else:\n",
    "    # so the code can run multiple times \n",
    "    # while directory not ending with 'parent_dir' move up the path ..\\\n",
    "    while \"parent_dir\" not in os.getcwd()[-11:]:\n",
    "        # move up in dir to find 'parent_dir'\n",
    "        os.chdir(\"..\")\n",
    "        print(\"moved up\", os.getcwd())\n",
    "        \n",
    "# print the current working directory (should be \"parent_dir\")\n",
    "print(\"The current working directory is:\", os.getcwd())\n",
    "\n",
    "# check for randoms_directory if not present, create new\n",
    "if os.path.exists(os.getcwd() + \"/randoms_directory\") != True:\n",
    "    os.mkdir(\"randoms_directory\")\n",
    "\n",
    "# change the current working directory to randoms_directory\n",
    "print(\"Changing working dir to randoms_directory\")\n",
    "os.chdir(\"randoms_directory\")\n",
    "# print the current working directory (should be \"randoms_dir\")\n",
    "print(\"The current working directory is:\", os.getcwd())\n",
    "\n",
    "# create directories inside \"randoms_directory\"\n",
    "create()\n",
    "\n",
    "# list the content of the current directory\n",
    "print(\"Current directory content:\", os.listdir())\n"
   ]
  },
  {
   "cell_type": "code",
   "execution_count": null,
   "metadata": {},
   "outputs": [],
   "source": [
    "# checking directory while coding so as not to mess up computer files\n",
    "\n",
    "print('The current working directory is:', os.getcwd())"
   ]
  },
  {
   "cell_type": "code",
   "execution_count": 127,
   "metadata": {},
   "outputs": [
    {
     "name": "stdout",
     "output_type": "stream",
     "text": [
      "5\n",
      "4\n"
     ]
    }
   ],
   "source": [
    "# testing function code functionality\n",
    "\n",
    "from datetime import datetime\n",
    "import math\n",
    "\n",
    "d = datetime.today()\n",
    "m = d.minute\n",
    "print(m)\n",
    "s = math.sqrt(m + 15)\n",
    "num = math.floor(s)\n",
    "print(num)"
   ]
  },
  {
   "cell_type": "code",
   "execution_count": 126,
   "metadata": {},
   "outputs": [
    {
     "name": "stdout",
     "output_type": "stream",
     "text": [
      "04_04_20_25336\n"
     ]
    }
   ],
   "source": [
    "# testing function code functionality\n",
    "\n",
    "from random import randint\n",
    "from datetime import datetime\n",
    "\n",
    "randnum = str(randint(10000, 50000))\n",
    "d = datetime.today()\n",
    "date = d.strftime(\"%m_%d_%y_\")\n",
    "name = date+randnum\n",
    "print(name)"
   ]
  },
  {
   "cell_type": "code",
   "execution_count": null,
   "metadata": {},
   "outputs": [],
   "source": []
  }
 ],
 "metadata": {
  "kernelspec": {
   "display_name": "Python 3",
   "language": "python",
   "name": "python3"
  },
  "language_info": {
   "codemirror_mode": {
    "name": "ipython",
    "version": 3
   },
   "file_extension": ".py",
   "mimetype": "text/x-python",
   "name": "python",
   "nbconvert_exporter": "python",
   "pygments_lexer": "ipython3",
   "version": "3.7.4"
  }
 },
 "nbformat": 4,
 "nbformat_minor": 2
}
